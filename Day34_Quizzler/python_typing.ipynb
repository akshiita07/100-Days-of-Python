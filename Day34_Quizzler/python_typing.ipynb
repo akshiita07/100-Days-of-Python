{
 "cells": [
  {
   "cell_type": "code",
   "execution_count": 2,
   "metadata": {},
   "outputs": [],
   "source": [
    "# predefining what data type a variable must use:\n",
    "age:int\n",
    "name:str\n",
    "can_drive:bool\n",
    "\n",
    "age=12    #valid\n",
    "# age=\"twelve\"    #INvalid"
   ]
  },
  {
   "cell_type": "code",
   "execution_count": 3,
   "metadata": {},
   "outputs": [
    {
     "name": "stdout",
     "output_type": "stream",
     "text": [
      "None\n",
      "Jail\n"
     ]
    }
   ],
   "source": [
    "def fnc(age:int)->bool:\n",
    "    if(age>18):\n",
    "        can_drive=True\n",
    "    else:\n",
    "        can_drive=False\n",
    "\n",
    "if print(fnc(19))==True:\n",
    "    print(\"Pass\")\n",
    "else:\n",
    "    print(\"Jail\")"
   ]
  }
 ],
 "metadata": {
  "kernelspec": {
   "display_name": ".venv",
   "language": "python",
   "name": "python3"
  },
  "language_info": {
   "codemirror_mode": {
    "name": "ipython",
    "version": 3
   },
   "file_extension": ".py",
   "mimetype": "text/x-python",
   "name": "python",
   "nbconvert_exporter": "python",
   "pygments_lexer": "ipython3",
   "version": "3.12.5"
  }
 },
 "nbformat": 4,
 "nbformat_minor": 2
}
