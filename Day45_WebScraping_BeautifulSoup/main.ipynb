{
 "cells": [
  {
   "cell_type": "code",
   "execution_count": 8,
   "metadata": {},
   "outputs": [],
   "source": [
    "from bs4 import BeautifulSoup  #beautiful soup version 4"
   ]
  },
  {
   "cell_type": "code",
   "execution_count": 11,
   "metadata": {},
   "outputs": [
    {
     "name": "stdout",
     "output_type": "stream",
     "text": [
      "ï»¿<!DOCTYPE html>\n",
      "<html lang=\"en\">\n",
      "\n",
      "<head>\n",
      "    <meta charset=\"UTF-8\">\n",
      "    <meta name=\"viewport\" content=\"width=device-width, initial-scale=1.0\">\n",
      "    <title>Akshita's personal site</title>\n",
      "</head>\n",
      "\n",
      "<body>\n",
      "    <h1 id=\"name\">Akshita Pathak</h1>\n",
      "    <p><em>Student at <strong><a href=\"https://www.thapar.edu/\">Thapar Institute of Engineering &\n",
      "                    Technology</a></strong>.</em></p>\n",
      "    <p>I am a Web Developer. I love cold coffee and travelling.</p>\n",
      "    <hr>\n",
      "    <h3 class=\"heading\">Currently learning</h3>\n",
      "    <ul>\n",
      "        <li>100 Days of Code - The Complete Python Bootcamp</li>\n",
      "        <li>Striver A-Z DSA Series</li>\n",
      "        <li>Daily Leetcode</li>\n",
      "    </ul>\n",
      "    <hr>\n",
      "    <h3 class=\"heading\">Other Pages</h3>\n",
      "    <a href=\"https://github.com/akshiita07\">My Github</a>\n",
      "    <a href=\"https://leetcode.com/u/akshitapathak/\">Leetcode</a>\n",
      "</body>\n",
      "\n",
      "</html>\n"
     ]
    }
   ],
   "source": [
    "with open(\"website.html\") as htmlFile:\n",
    "    contents=htmlFile.read()\n",
    "print(contents)"
   ]
  },
  {
   "cell_type": "code",
   "execution_count": 12,
   "metadata": {},
   "outputs": [],
   "source": [
    "# create object of BeautifulSoup\n",
    "soup=BeautifulSoup(contents,\"html.parser\")"
   ]
  },
  {
   "cell_type": "code",
   "execution_count": 13,
   "metadata": {},
   "outputs": [
    {
     "name": "stdout",
     "output_type": "stream",
     "text": [
      "ï»¿\n",
      "<!DOCTYPE html>\n",
      "<html lang=\"en\">\n",
      " <head>\n",
      "  <meta charset=\"utf-8\"/>\n",
      "  <meta content=\"width=device-width, initial-scale=1.0\" name=\"viewport\"/>\n",
      "  <title>\n",
      "   Akshita's personal site\n",
      "  </title>\n",
      " </head>\n",
      " <body>\n",
      "  <h1 id=\"name\">\n",
      "   Akshita Pathak\n",
      "  </h1>\n",
      "  <p>\n",
      "   <em>\n",
      "    Student at\n",
      "    <strong>\n",
      "     <a href=\"https://www.thapar.edu/\">\n",
      "      Thapar Institute of Engineering &amp;\n",
      "                    Technology\n",
      "     </a>\n",
      "    </strong>\n",
      "    .\n",
      "   </em>\n",
      "  </p>\n",
      "  <p>\n",
      "   I am a Web Developer. I love cold coffee and travelling.\n",
      "  </p>\n",
      "  <hr/>\n",
      "  <h3 class=\"heading\">\n",
      "   Currently learning\n",
      "  </h3>\n",
      "  <ul>\n",
      "   <li>\n",
      "    100 Days of Code - The Complete Python Bootcamp\n",
      "   </li>\n",
      "   <li>\n",
      "    Striver A-Z DSA Series\n",
      "   </li>\n",
      "   <li>\n",
      "    Daily Leetcode\n",
      "   </li>\n",
      "  </ul>\n",
      "  <hr/>\n",
      "  <h3 class=\"heading\">\n",
      "   Other Pages\n",
      "  </h3>\n",
      "  <a href=\"https://github.com/akshiita07\">\n",
      "   My Github\n",
      "  </a>\n",
      "  <a href=\"https://leetcode.com/u/akshitapathak/\">\n",
      "   Leetcode\n",
      "  </a>\n",
      " </body>\n",
      "</html>\n",
      "\n"
     ]
    }
   ],
   "source": [
    "# print(soup)\n",
    "print(soup.prettify()) #with proper indentation"
   ]
  },
  {
   "cell_type": "code",
   "execution_count": 14,
   "metadata": {},
   "outputs": [
    {
     "name": "stdout",
     "output_type": "stream",
     "text": [
      "<title>Akshita's personal site</title>\n",
      "title\n",
      "Akshita's personal site\n"
     ]
    }
   ],
   "source": [
    "print(soup.title)\n",
    "print(soup.title.name)\n",
    "print(soup.title.string)"
   ]
  },
  {
   "cell_type": "code",
   "execution_count": 15,
   "metadata": {},
   "outputs": [
    {
     "name": "stdout",
     "output_type": "stream",
     "text": [
      "<a href=\"https://www.thapar.edu/\">Thapar Institute of Engineering &amp;\n",
      "                    Technology</a>\n",
      "<li>100 Days of Code - The Complete Python Bootcamp</li>\n",
      "<p><em>Student at <strong><a href=\"https://www.thapar.edu/\">Thapar Institute of Engineering &amp;\n",
      "                    Technology</a></strong>.</em></p>\n"
     ]
    }
   ],
   "source": [
    "# returns first found tags:\n",
    "print(soup.a)\n",
    "print(soup.li)\n",
    "print(soup.p)"
   ]
  },
  {
   "cell_type": "code",
   "execution_count": 16,
   "metadata": {},
   "outputs": [
    {
     "name": "stdout",
     "output_type": "stream",
     "text": [
      "[<a href=\"https://www.thapar.edu/\">Thapar Institute of Engineering &amp;\n",
      "                    Technology</a>, <a href=\"https://github.com/akshiita07\">My Github</a>, <a href=\"https://leetcode.com/u/akshitapathak/\">Leetcode</a>]\n"
     ]
    }
   ],
   "source": [
    "print(soup.find_all(name=\"a\"))  #returns list of all anchor tags"
   ]
  },
  {
   "cell_type": "code",
   "execution_count": 22,
   "metadata": {},
   "outputs": [
    {
     "name": "stdout",
     "output_type": "stream",
     "text": [
      "https://www.thapar.edu/\n",
      "https://github.com/akshiita07\n",
      "https://leetcode.com/u/akshitapathak/\n"
     ]
    }
   ],
   "source": [
    "tag=soup.find_all(name=\"a\")\n",
    "\n",
    "for t in tag:\n",
    "    # print(t.getText())\n",
    "    print(t.get(\"href\"))\n"
   ]
  },
  {
   "cell_type": "code",
   "execution_count": 24,
   "metadata": {},
   "outputs": [
    {
     "name": "stdout",
     "output_type": "stream",
     "text": [
      "[<h1 id=\"name\">Akshita Pathak</h1>]\n",
      "[<h3 class=\"heading\">Currently learning</h3>, <h3 class=\"heading\">Other Pages</h3>]\n",
      "<h3 class=\"heading\">Currently learning</h3>\n"
     ]
    }
   ],
   "source": [
    "print(soup.find_all(id=\"name\"))\n",
    "print(soup.find_all(class_=\"heading\"))\n",
    "print(soup.find(class_=\"heading\"))      #only gives FIRST one"
   ]
  },
  {
   "cell_type": "code",
   "execution_count": 25,
   "metadata": {},
   "outputs": [
    {
     "name": "stdout",
     "output_type": "stream",
     "text": [
      "[<a href=\"https://www.thapar.edu/\">Thapar Institute of Engineering &amp;\n",
      "                    Technology</a>]\n",
      "<em>Student at <strong><a href=\"https://www.thapar.edu/\">Thapar Institute of Engineering &amp;\n",
      "                    Technology</a></strong>.</em>\n"
     ]
    }
   ],
   "source": [
    "print(soup.select(selector=\"p a\"))\n",
    "print(soup.select_one(selector=\"p em\"))\n"
   ]
  },
  {
   "cell_type": "markdown",
   "metadata": {},
   "source": [
    "/robots.txt is used to know what can be scraped & what cannot be"
   ]
  }
 ],
 "metadata": {
  "kernelspec": {
   "display_name": ".venv",
   "language": "python",
   "name": "python3"
  },
  "language_info": {
   "codemirror_mode": {
    "name": "ipython",
    "version": 3
   },
   "file_extension": ".py",
   "mimetype": "text/x-python",
   "name": "python",
   "nbconvert_exporter": "python",
   "pygments_lexer": "ipython3",
   "version": "3.12.5"
  }
 },
 "nbformat": 4,
 "nbformat_minor": 2
}
