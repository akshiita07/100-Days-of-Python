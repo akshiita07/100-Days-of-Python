{
 "cells": [
  {
   "cell_type": "markdown",
   "metadata": {},
   "source": [
    "# APPLICATION PROGRAMMING INTERFACE API: set of commands,fncs that programmers use to interact with an external system & fetch live data from them.\n",
    "# It acts as an INTERFACE between our program & the external system\n",
    "# make REQUEST using API & it will send REPLY along with reqd DATA\n",
    "# API ENDPOINT: location at which data is stored ie a URL\n",
    "\n",
    "# ISS website: http://open-notify.org/Open-Notify-API/ISS-Location-Now/\n",
    "# ISS API endpoint: http://api.open-notify.org/iss-now.json"
   ]
  },
  {
   "cell_type": "code",
   "execution_count": 1,
   "metadata": {},
   "outputs": [
    {
     "name": "stdout",
     "output_type": "stream",
     "text": [
      "<Response [200]>\n",
      "<class 'requests.models.Response'>\n"
     ]
    }
   ],
   "source": [
    "import requests         #pip install requests\n",
    "response=requests.get(url=\"http://api.open-notify.org/iss-now.json\")      #to get d data from the endpoint\n",
    "print(response)     #we get status code as type response object\n",
    "print(type(response))\n"
   ]
  },
  {
   "cell_type": "markdown",
   "metadata": {},
   "source": [
    "\n",
    "# RESPONSE CODES:\n",
    "1xx: hold on\n",
    "2xx: success\n",
    "3xx: u dont have permission to fetch this\n",
    "4xx: thing u r looking for does not exist\n",
    "5xx: server/website is down\n"
   ]
  },
  {
   "cell_type": "code",
   "execution_count": 2,
   "metadata": {},
   "outputs": [
    {
     "name": "stdout",
     "output_type": "stream",
     "text": [
      "200\n"
     ]
    }
   ],
   "source": [
    "\n",
    "print(response.status_code)     #to fetch actual status code \n",
    "\n",
    "if response.status_code!=200:\n",
    "    print(\"Some error has occurred\")\n",
    "    raise Exception(\"Some error has occurred\")      #general type of exception\n",
    "\n"
   ]
  },
  {
   "cell_type": "code",
   "execution_count": 3,
   "metadata": {},
   "outputs": [],
   "source": [
    "if response.status_code==404:\n",
    "    raise Exception(\"Resource that u r fetcing does not exist\") \n",
    "elif response.status_code==401:\n",
    "    raise Exception(\"You are not authorized to access this data\") "
   ]
  },
  {
   "cell_type": "code",
   "execution_count": 7,
   "metadata": {},
   "outputs": [
    {
     "name": "stdout",
     "output_type": "stream",
     "text": [
      "None\n"
     ]
    }
   ],
   "source": [
    "# Errors and exceptions from requests module itself:\n",
    "print(response.raise_for_status() )    #exception is automatically raised whenever status code is NOT 200"
   ]
  },
  {
   "cell_type": "code",
   "execution_count": 5,
   "metadata": {},
   "outputs": [
    {
     "name": "stdout",
     "output_type": "stream",
     "text": [
      "{'iss_position': {'longitude': '33.0364', 'latitude': '-45.7262'}, 'message': 'success', 'timestamp': 1736746307}\n"
     ]
    }
   ],
   "source": [
    "data=response.json()\n",
    "print(data)"
   ]
  },
  {
   "cell_type": "code",
   "execution_count": 6,
   "metadata": {},
   "outputs": [
    {
     "name": "stdout",
     "output_type": "stream",
     "text": [
      "{'longitude': '33.0364', 'latitude': '-45.7262'}\n"
     ]
    }
   ],
   "source": [
    "print(data[\"iss_position\"])"
   ]
  },
  {
   "cell_type": "code",
   "execution_count": 8,
   "metadata": {},
   "outputs": [
    {
     "name": "stdout",
     "output_type": "stream",
     "text": [
      "('33.0364', '-45.7262')\n"
     ]
    }
   ],
   "source": [
    "longitude=data[\"iss_position\"][\"longitude\"]\n",
    "latitude=data[\"iss_position\"][\"latitude\"]\n",
    "iss_position=(longitude,latitude)     #form as a tuple\n",
    "print(iss_position)\n",
    "\n",
    "# search for the actual address from latitude,longitude here: https://www.latlong.net/Show-Latitude-Longitude.html"
   ]
  },
  {
   "cell_type": "markdown",
   "metadata": {},
   "source": [
    "#API with parameters to get different output:"
   ]
  },
  {
   "cell_type": "code",
   "execution_count": null,
   "metadata": {},
   "outputs": [
    {
     "name": "stdout",
     "output_type": "stream",
     "text": [
      "('1:49:51 AM', '12:13:17 PM')\n",
      "2025-01-13 11:35:16.992101\n"
     ]
    }
   ],
   "source": [
    "import datetime as dt\n",
    "\n",
    "# getting sunrise & sunset:\n",
    "MY_LATITUDE=30.733315\n",
    "MY_LONGITUDE=76.779419\n",
    "\n",
    "parameters={\n",
    "    \"lat\":MY_LATITUDE,\n",
    "    \"lng\":MY_LONGITUDE,    \n",
    "}       #as dictionary \n",
    "\n",
    "response=requests.get(url=\"https://api.sunrise-sunset.org/json\",params=parameters)\n",
    "\n",
    "response.raise_for_status()     #400 Client Error: Bad Request for url ie havent provided reqd parameters\n",
    "\n",
    "data=response.json()\n",
    "# print(data)\n",
    "\n",
    "# in web search with parameters using ? and & symbols: https://api.sunrise-sunset.org/json?lat=30.733315&lng=76.779419\n",
    "\n",
    "sunrise_time=data[\"results\"][\"sunrise\"]\n",
    "sunset_time=data[\"results\"][\"sunset\"]\n",
    "\n",
    "times=(sunrise_time,sunset_time)\n",
    "\n",
    "print(times)    # we get in AM/PM format in 12 hour format\n",
    "\n",
    "current_time=dt.datetime.now()\n",
    "print(current_time)    # we get in 24 hour format\n",
    "\n"
   ]
  },
  {
   "cell_type": "code",
   "execution_count": 19,
   "metadata": {},
   "outputs": [
    {
     "name": "stdout",
     "output_type": "stream",
     "text": [
      "('01', '12')\n",
      "2025-01-13 11:40:35.067313\n"
     ]
    }
   ],
   "source": [
    "# turning off formating:\n",
    "import datetime as dt\n",
    "\n",
    "# getting sunrise & sunset:\n",
    "MY_LATITUDE=30.733315\n",
    "MY_LONGITUDE=76.779419\n",
    "\n",
    "parameters={\n",
    "    \"lat\":MY_LATITUDE,\n",
    "    \"lng\":MY_LONGITUDE,    \n",
    "    \"formatted\":0,      #so that we get in 24hour format\n",
    "}       #as dictionary \n",
    "\n",
    "response=requests.get(url=\"https://api.sunrise-sunset.org/json\",params=parameters)\n",
    "response.raise_for_status()\n",
    "\n",
    "data=response.json()\n",
    "\n",
    "sunrise_time=data[\"results\"][\"sunrise\"]\n",
    "sunrise_time=sunrise_time.split('T')\n",
    "sunrise_time=sunrise_time[1]        #need 2nd time part\n",
    "sunrise_hour=sunrise_time.split(':')\n",
    "sunrise_hour=sunrise_hour[0]        #need first part\n",
    "\n",
    "sunset_time=data[\"results\"][\"sunset\"]\n",
    "sunset_time=sunset_time.split('T')\n",
    "sunset_time=sunset_time[1]\n",
    "sunset_hour=sunset_time.split(':')\n",
    "sunset_hour=sunset_hour[0]\n",
    "\n",
    "times=(sunrise_hour,sunset_hour)\n",
    "\n",
    "print(times)\n",
    "\n",
    "current_time=dt.datetime.now()\n",
    "print(current_time)\n",
    "\n"
   ]
  }
 ],
 "metadata": {
  "kernelspec": {
   "display_name": "Python 3",
   "language": "python",
   "name": "python3"
  },
  "language_info": {
   "codemirror_mode": {
    "name": "ipython",
    "version": 3
   },
   "file_extension": ".py",
   "mimetype": "text/x-python",
   "name": "python",
   "nbconvert_exporter": "python",
   "pygments_lexer": "ipython3",
   "version": "3.12.5"
  }
 },
 "nbformat": 4,
 "nbformat_minor": 2
}
