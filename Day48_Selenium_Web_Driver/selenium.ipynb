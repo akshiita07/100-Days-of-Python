{
 "cells": [
  {
   "cell_type": "markdown",
   "metadata": {},
   "source": [
    "# INSTALL SELENIUM:\n",
    "pip install selenium\n",
    "import selenium"
   ]
  },
  {
   "cell_type": "code",
   "execution_count": 11,
   "metadata": {},
   "outputs": [],
   "source": [
    "# IMPORT MODULE FROM SELENIUM:\n",
    "from selenium import webdriver\n",
    "# To find elements:\n",
    "from selenium.webdriver.common.by import By"
   ]
  },
  {
   "cell_type": "code",
   "execution_count": 12,
   "metadata": {},
   "outputs": [],
   "source": [
    "# KEEP CHROME BROWSER OPEN:\n",
    "chrome_options=webdriver.ChromeOptions()\n",
    "chrome_options.add_experimental_option(\"detach\",True)"
   ]
  },
  {
   "cell_type": "code",
   "execution_count": 18,
   "metadata": {},
   "outputs": [
    {
     "name": "stdout",
     "output_type": "stream",
     "text": [
      "Price of prduct is: 44,799\n",
      "Name of prduct is: Dyson Airwrap i.d. ¢ Multi-Styler & Dryer (Vinca Blue/Topaz) - Limited Edition, 1300 Watts\n",
      "Printing selenium element: <selenium.webdriver.remote.webelement.WebElement (session=\"73bb07bc4ffef1bcb97c5e3cf36e293c\", element=\"f.82F1525304F005716ABB9FE394758399.d.5F2173DDBE6D038B8F1E46373D9BA5EC.e.79\")>\n",
      "Name of tag: input\n",
      "Placeholder of input: Search Amazon.in\n",
      "Type of input: text\n",
      "Using css selctor: Limited time deal\n",
      "Using x path: In stock\n"
     ]
    }
   ],
   "source": [
    "# CREATE A NEW DRIVER:\n",
    "driver=webdriver.Chrome(options=chrome_options)\n",
    "# OPEN WEBSITE:\n",
    "driver.get(\"https://www.amazon.in/Dyson-Airwrap-Multi-Styler-Dryer-Vinca/dp/B0DNZDZFFP/ref=sr_1_2?crid=2OBCUEY055RHY&dib=eyJ2IjoiMSJ9.Vyx-9TK-oFvMm46ih4ZmqlnYqsJWiIeeJus1DIfN3CHxkVQ55DsBjL0uCWE2tG5gzd7z__qjlvB4wufGdjEquvufuXjR5zDnn3KNZmqpxY8d-UsH4Yc_D_RaKHf97Njp58StBdok4EVeX1c_XVUVzBQ4RCL3pbVeoTzxpqbRsNW9VJb_LPspgsw7kbeslPVQqtZYmT233BtWBNT1jEU9sk0a_KJTu811qhud3LHDzV8.-d5s72eKlc33vuyLdllRwrHn8gzP1q1WlfWStMaT9HI&dib_tag=se&keywords=dyson%2Bairwrap&nsdOptOutParam=true&qid=1737870544&sprefix=dyson%2Bair%2Bstra%2Cspecialty-aps%2C225&sr=8-2&th=1\")\n",
    "\n",
    "# TO BYPASS AMAZON CAPTCHA:\n",
    "captcha = driver.find_element(By.LINK_TEXT, \"Try different image\")\n",
    "captcha.click()\n",
    "\n",
    "# FIND ELEMENTS:\n",
    "price_tag=driver.find_element(By.CLASS_NAME,value=\"a-price-whole\").text\n",
    "print(f\"Price of prduct is: {price_tag}\")\n",
    "\n",
    "product_title=driver.find_element(By.ID,value=\"productTitle\").text\n",
    "print(f\"Name of prduct is: {product_title}\")\n",
    "\n",
    "input_element=driver.find_element(By.NAME,\"field-keywords\")\n",
    "print(f\"Printing selenium element: {input_element}\")\n",
    "print(f\"Name of tag: {input_element.tag_name}\")\n",
    "print(f\"Placeholder of input: {input_element.get_attribute(\"placeholder\")}\")\n",
    "print(f\"Type of input: {input_element.get_attribute(\"type\")}\")\n",
    "\n",
    "css_selector=driver.find_element(By.CSS_SELECTOR,\".dealBadgeTextColor span\").text\n",
    "print(f\"Using css selctor: {css_selector}\")\n",
    "\n",
    "using_xpath=driver.find_element(By.XPATH,'//*[@id=\"availability\"]/span').text\n",
    "print(f\"Using x path: {using_xpath}\")\n",
    "\n",
    "# TO CLOSE SINGLE ACTIVE TAB:\n",
    "# driver.close()\n",
    "\n",
    "# TO QUIT CHROME ENTIRELY:\n",
    "driver.quit()"
   ]
  },
  {
   "cell_type": "code",
   "execution_count": 19,
   "metadata": {},
   "outputs": [
    {
     "name": "stdout",
     "output_type": "stream",
     "text": [
      "Full element: <selenium.webdriver.remote.webelement.WebElement (session=\"05cd5b3455092fbb47bd86c0e7443b38\", element=\"f.FF983483D0C1843118446BB093C93D49.d.92ECD5164504BE6DD95F5150C821AEC7.e.9\")>\n",
      "Type of tag: input\n",
      "Name: q\n",
      "Placeholder: Search\n",
      "Size of button: {'height': 39, 'width': 46}\n",
      "Name of button: submit\n",
      "Title of button: Submit this Search\n"
     ]
    }
   ],
   "source": [
    "# eg2: python website:\n",
    "driver=webdriver.Chrome(options=chrome_options)\n",
    "driver.get(\"https://www.python.org/\")\n",
    "\n",
    "# FIND ELEMENTS\n",
    "input_element=driver.find_element(By.ID,\"id-search-field\")\n",
    "print(f\"Full element: {input_element}\")\n",
    "print(f\"Type of tag: {input_element.tag_name}\")\n",
    "print(f\"Name: {input_element.get_attribute(\"name\")}\")\n",
    "print(f\"Placeholder: {input_element.get_attribute(\"placeholder\")}\")\n",
    "\n",
    "button=driver.find_element(By.XPATH,'//*[@id=\"submit\"]')\n",
    "print(f\"Size of button: {button.size}\")\n",
    "print(f\"Name of button: {button.get_attribute(\"name\")}\")\n",
    "print(f\"Title of button: {button.get_attribute(\"title\")}\")\n",
    "\n",
    "driver.quit()"
   ]
  },
  {
   "cell_type": "code",
   "execution_count": null,
   "metadata": {},
   "outputs": [
    {
     "name": "stdout",
     "output_type": "stream",
     "text": [
      "{0: {'time': '2025-01-27', 'name': 'Python Leiden User Group'}, 1: {'time': '2025-01-29', 'name': 'IndyPy - Building Voice Agents: Unpacking the Pipeline'}, 2: {'time': '2025-02-02', 'name': 'Python devroom @ FOSDEM 2025'}, 3: {'time': '2025-02-08', 'name': 'PyCascades 2025'}, 4: {'time': '2025-02-15', 'name': 'Python Barcamp Karlsruhe 2025'}}\n"
     ]
    }
   ],
   "source": [
    "# CREATE DICTIONARY FROM UPCOMING EVENTS {0:{\"time\":DATE,\"name\":NAME_OF_EVENT},_ _ _}\n",
    "driver=webdriver.Chrome(options=chrome_options)\n",
    "driver.get(\"https://www.python.org/\")\n",
    "\n",
    "all_events_date=driver.find_elements(By.CSS_SELECTOR,\".event-widget time\")\n",
    "all_events_name=driver.find_elements(By.CSS_SELECTOR,\".event-widget .menu a\")\n",
    "# print(all_events_date)\n",
    "\n",
    "\"\"\"\n",
    "for event in all_events_date:\n",
    "    event_date=event.text\n",
    "    print(event_date)\n",
    "    \n",
    "for event in all_events_name:\n",
    "    event_name=event.text\n",
    "    print(event_name)\n",
    "\"\"\"\n",
    "    \n",
    "# ADD ALL TO A DICTIONARY:\n",
    "event_dict={}\n",
    "for i in range(len(all_events_date)):\n",
    "    event_dict[i]={\n",
    "        \"time\":all_events_date[i].text,\n",
    "        \"name\":all_events_name[i].text\n",
    "    }\n",
    "    \n",
    "print(event_dict)\n",
    "driver.quit()"
   ]
  }
 ],
 "metadata": {
  "kernelspec": {
   "display_name": ".venv",
   "language": "python",
   "name": "python3"
  },
  "language_info": {
   "codemirror_mode": {
    "name": "ipython",
    "version": 3
   },
   "file_extension": ".py",
   "mimetype": "text/x-python",
   "name": "python",
   "nbconvert_exporter": "python",
   "pygments_lexer": "ipython3",
   "version": "3.12.5"
  }
 },
 "nbformat": 4,
 "nbformat_minor": 2
}
