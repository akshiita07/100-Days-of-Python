{
 "cells": [
  {
   "cell_type": "code",
   "execution_count": 1,
   "metadata": {},
   "outputs": [],
   "source": [
    "# Add 1 to each number of this list & create new list\n",
    "numbers=[1,2,3]"
   ]
  },
  {
   "cell_type": "code",
   "execution_count": 2,
   "metadata": {},
   "outputs": [
    {
     "name": "stdout",
     "output_type": "stream",
     "text": [
      "[2, 3, 4]\n"
     ]
    }
   ],
   "source": [
    "# For loop method:\n",
    "new_list=[]\n",
    "for n in numbers:\n",
    "    add_1=n+1\n",
    "    new_list.append(add_1)\n",
    "print(new_list)"
   ]
  },
  {
   "cell_type": "code",
   "execution_count": 3,
   "metadata": {},
   "outputs": [
    {
     "name": "stdout",
     "output_type": "stream",
     "text": [
      "[2, 3, 4]\n"
     ]
    }
   ],
   "source": [
    "# List Comprehension method:\n",
    "new_list=[n+1 for n in numbers]\n",
    "print(new_list)"
   ]
  },
  {
   "cell_type": "code",
   "execution_count": 4,
   "metadata": {},
   "outputs": [
    {
     "name": "stdout",
     "output_type": "stream",
     "text": [
      "['A', 'k', 's', 'h', 'i', 't', 'a']\n"
     ]
    }
   ],
   "source": [
    "# String Comprehension\n",
    "name=\"Akshita\"\n",
    "letter_list=[letter for letter in name]\n",
    "print(letter_list)   #extracts each letter from the string"
   ]
  },
  {
   "cell_type": "code",
   "execution_count": 5,
   "metadata": {},
   "outputs": [
    {
     "name": "stdout",
     "output_type": "stream",
     "text": [
      "[2, 4, 6, 8]\n"
     ]
    }
   ],
   "source": [
    "new_range=[item*2 for item in range(1,5)]\n",
    "print(new_range)"
   ]
  },
  {
   "cell_type": "code",
   "execution_count": 8,
   "metadata": {},
   "outputs": [],
   "source": [
    "names=[\"Akshita\",\"Shaktee\",\"Ritesh\",\"Saanvi\"]"
   ]
  },
  {
   "cell_type": "code",
   "execution_count": 9,
   "metadata": {},
   "outputs": [
    {
     "name": "stdout",
     "output_type": "stream",
     "text": [
      "['Ritesh', 'Saanvi']\n"
     ]
    }
   ],
   "source": [
    "short_names=[name for name in names if len(name)<7]\n",
    "print(short_names)"
   ]
  },
  {
   "cell_type": "code",
   "execution_count": 13,
   "metadata": {},
   "outputs": [
    {
     "name": "stdout",
     "output_type": "stream",
     "text": [
      "['AKSHITA', 'SHAKTEE']\n"
     ]
    }
   ],
   "source": [
    "big_names=[name.upper() for name in names if len(name)>6]\n",
    "print(big_names)"
   ]
  },
  {
   "cell_type": "code",
   "execution_count": null,
   "metadata": {},
   "outputs": [],
   "source": [
    "list_of_strings = ['9', '0', '32', '8', '2', '8', '64', '29', '42', '99']\n",
    "numbers = [int(n) for n in list_of_strings]\n",
    "result = [n for n in numbers if n%2==0]\n",
    "print(result)"
   ]
  },
  {
   "cell_type": "code",
   "execution_count": null,
   "metadata": {},
   "outputs": [],
   "source": [
    "with open('file1.txt') as f1:\n",
    "    data1 = [int(line.strip()) for line in f1]\n",
    "with open('file2.txt') as f2:\n",
    "    data2 = [int(line.strip()) for line in f2]\n",
    "result = [n for n in data1 if n in data2]\n",
    "\n",
    "print(result)"
   ]
  },
  {
   "cell_type": "markdown",
   "metadata": {},
   "source": [
    "DICTIONARY COMPREHENSION:"
   ]
  },
  {
   "cell_type": "code",
   "execution_count": 14,
   "metadata": {},
   "outputs": [
    {
     "name": "stdout",
     "output_type": "stream",
     "text": [
      "{'Akshita': 86, 'Shaktee': 8, 'Ritesh': 23, 'Saanvi': 77}\n"
     ]
    }
   ],
   "source": [
    "import random\n",
    "names=[\"Akshita\",\"Shaktee\",\"Ritesh\",\"Saanvi\"]\n",
    "# i want dict {name:score}\n",
    "random_scores={name:random.randint(1,100) for name in names}\n",
    "print(random_scores)"
   ]
  },
  {
   "cell_type": "code",
   "execution_count": 15,
   "metadata": {},
   "outputs": [
    {
     "name": "stdout",
     "output_type": "stream",
     "text": [
      "{'Akshita': 86, 'Saanvi': 77}\n"
     ]
    }
   ],
   "source": [
    "passed_students={name:score for (name,score) in random_scores.items() if score>=60}\n",
    "print(passed_students)"
   ]
  },
  {
   "cell_type": "code",
   "execution_count": null,
   "metadata": {},
   "outputs": [],
   "source": [
    "sentence = \"What is the Airspeed Velocity of an Unladen Swallow?\"\n",
    "words=sentence.split()\n",
    "result = {word:len(word) for word in words}\n",
    "print(result)"
   ]
  },
  {
   "cell_type": "code",
   "execution_count": null,
   "metadata": {},
   "outputs": [],
   "source": [
    "weather_c = {\"Monday\": 12, \"Tuesday\": 14, \"Wednesday\": 15, \"Thursday\": 14, \"Friday\": 21, \"Saturday\": 22, \"Sunday\": 24}\n",
    "\n",
    "weather_f = {day:(cel*9/5)+32 for (day,cel) in weather_c.items()}\n",
    "\n",
    "print(weather_f)"
   ]
  },
  {
   "cell_type": "code",
   "execution_count": 16,
   "metadata": {},
   "outputs": [
    {
     "name": "stdout",
     "output_type": "stream",
     "text": [
      "Akshita 86\n",
      "Shaktee 8\n",
      "Ritesh 23\n",
      "Saanvi 77\n"
     ]
    }
   ],
   "source": [
    "# Looping thru a dictionary:\n",
    "student_dict={'Akshita': 86, 'Shaktee': 8, 'Ritesh': 23, 'Saanvi': 77}\n",
    "for (key,val) in student_dict.items():\n",
    "    print(key,val)"
   ]
  },
  {
   "cell_type": "code",
   "execution_count": 19,
   "metadata": {},
   "outputs": [
    {
     "name": "stdout",
     "output_type": "stream",
     "text": [
      "         0   1\n",
      "0  Akshita  86\n",
      "1  Shaktee   8\n",
      "2   Ritesh  23\n",
      "3   Saanvi  77\n"
     ]
    }
   ],
   "source": [
    "# Looping thru a pandas dataframe:\n",
    "import pandas\n",
    "student_dict={'Akshita': 86, 'Shaktee': 8, 'Ritesh': 23, 'Saanvi': 77}\n",
    "df=pandas.DataFrame(student_dict.items())\n",
    "print(df)"
   ]
  },
  {
   "cell_type": "code",
   "execution_count": 26,
   "metadata": {},
   "outputs": [
    {
     "name": "stdout",
     "output_type": "stream",
     "text": [
      "0    Akshita\n",
      "1         86\n",
      "Name: 0, dtype: object\n",
      "0    Shaktee\n",
      "1          8\n",
      "Name: 1, dtype: object\n",
      "0    Ritesh\n",
      "1        23\n",
      "Name: 2, dtype: object\n",
      "0    Saanvi\n",
      "1        77\n",
      "Name: 3, dtype: object\n"
     ]
    }
   ],
   "source": [
    "# wrong method:\n",
    "for (key,val) in df.items():\n",
    "    # print(key)\n",
    "    print(val)"
   ]
  },
  {
   "cell_type": "code",
   "execution_count": 30,
   "metadata": {},
   "outputs": [],
   "source": [
    "# correct method:\n",
    "for (index,row) in df.iterrows():\n",
    "    # print(index)\n",
    "    # print(row)\n",
    "    if row.name==\"Akshita\":\n",
    "        print(row)"
   ]
  }
 ],
 "metadata": {
  "kernelspec": {
   "display_name": "Python 3",
   "language": "python",
   "name": "python3"
  },
  "language_info": {
   "codemirror_mode": {
    "name": "ipython",
    "version": 3
   },
   "file_extension": ".py",
   "mimetype": "text/x-python",
   "name": "python",
   "nbconvert_exporter": "python",
   "pygments_lexer": "ipython3",
   "version": "3.12.5"
  }
 },
 "nbformat": 4,
 "nbformat_minor": 2
}
