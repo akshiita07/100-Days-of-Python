{
 "cells": [
  {
   "cell_type": "code",
   "execution_count": 1,
   "metadata": {},
   "outputs": [],
   "source": [
    "import datetime as dt"
   ]
  },
  {
   "cell_type": "code",
   "execution_count": 2,
   "metadata": {},
   "outputs": [
    {
     "name": "stdout",
     "output_type": "stream",
     "text": [
      "2025-01-12 11:32:40.600998\n",
      "<class 'datetime.datetime'>\n"
     ]
    }
   ],
   "source": [
    "# to get full date time object\n",
    "current=dt.datetime.now()\n",
    "print(current)\n",
    "print(type(current))"
   ]
  },
  {
   "cell_type": "code",
   "execution_count": 3,
   "metadata": {},
   "outputs": [
    {
     "name": "stdout",
     "output_type": "stream",
     "text": [
      "2025\n",
      "<class 'int'>\n"
     ]
    }
   ],
   "source": [
    "# to get only year as integer\n",
    "current=dt.datetime.now()\n",
    "year=current.year\n",
    "print(year)\n",
    "print(type(year))"
   ]
  },
  {
   "cell_type": "code",
   "execution_count": 4,
   "metadata": {},
   "outputs": [
    {
     "name": "stdout",
     "output_type": "stream",
     "text": [
      "It is square root of 45\n"
     ]
    }
   ],
   "source": [
    "if year==2025:\n",
    "    print(\"It is square root of 45\")\n"
   ]
  },
  {
   "cell_type": "code",
   "execution_count": 5,
   "metadata": {},
   "outputs": [
    {
     "name": "stdout",
     "output_type": "stream",
     "text": [
      "1\n",
      "<class 'int'>\n"
     ]
    }
   ],
   "source": [
    "# to get only month as integer\n",
    "current=dt.datetime.now()\n",
    "month=current.month\n",
    "print(month)\n",
    "print(type(month))"
   ]
  },
  {
   "cell_type": "code",
   "execution_count": 7,
   "metadata": {},
   "outputs": [
    {
     "name": "stdout",
     "output_type": "stream",
     "text": [
      "12\n",
      "<class 'int'>\n"
     ]
    }
   ],
   "source": [
    "# to get only date as integer\n",
    "current=dt.datetime.now()\n",
    "day=current.day\n",
    "print(day)\n",
    "print(type(day))"
   ]
  },
  {
   "cell_type": "code",
   "execution_count": 10,
   "metadata": {},
   "outputs": [
    {
     "name": "stdout",
     "output_type": "stream",
     "text": [
      "6\n",
      "<class 'int'>\n"
     ]
    }
   ],
   "source": [
    "# to get only day as integer\n",
    "current=dt.datetime.now()\n",
    "weekday=current.weekday()\n",
    "print(weekday)\n",
    "print(type(weekday))\n",
    "# 0:monday 1:tuesday _ _ _ _ 6:sunday"
   ]
  },
  {
   "cell_type": "code",
   "execution_count": 11,
   "metadata": {},
   "outputs": [
    {
     "name": "stdout",
     "output_type": "stream",
     "text": [
      "2005-03-07 00:00:00\n"
     ]
    }
   ],
   "source": [
    "# i want to create a date time object that stores my DOB\n",
    "date_of_birth=dt.datetime(year=2005,month=3,day=7)\n",
    "print(date_of_birth)\n",
    "# takes by default time as 00:00:00"
   ]
  },
  {
   "cell_type": "code",
   "execution_count": 12,
   "metadata": {},
   "outputs": [
    {
     "name": "stdout",
     "output_type": "stream",
     "text": [
      "2005-03-07 03:00:00\n"
     ]
    }
   ],
   "source": [
    "# set hours also:\n",
    "date_of_birth=dt.datetime(year=2005,month=3,day=7,hour=3)\n",
    "print(date_of_birth)"
   ]
  }
 ],
 "metadata": {
  "kernelspec": {
   "display_name": "Python 3",
   "language": "python",
   "name": "python3"
  },
  "language_info": {
   "codemirror_mode": {
    "name": "ipython",
    "version": 3
   },
   "file_extension": ".py",
   "mimetype": "text/x-python",
   "name": "python",
   "nbconvert_exporter": "python",
   "pygments_lexer": "ipython3",
   "version": "3.12.5"
  }
 },
 "nbformat": 4,
 "nbformat_minor": 2
}
